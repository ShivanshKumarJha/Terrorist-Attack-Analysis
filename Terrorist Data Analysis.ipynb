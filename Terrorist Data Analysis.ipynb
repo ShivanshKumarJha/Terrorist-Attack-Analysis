{
 "cells": [
  {
   "cell_type": "markdown",
   "id": "6e8bd09e-e2b3-4b73-9d52-08f6d3c79bfe",
   "metadata": {},
   "source": [
    "<h1><center>Terrorist Attacks Analysis using NumPy</center></h1>"
   ]
  },
  {
   "cell_type": "markdown",
   "id": "c1b28eae-6ec7-4808-8ba5-51cb54822894",
   "metadata": {},
   "source": [
    "- Ques1. Calculate the killed + wounded for each terrorist attack"
   ]
  },
  {
   "cell_type": "code",
   "execution_count": 83,
   "id": "8ed13578-d82c-4355-b21b-561aa50db729",
   "metadata": {},
   "outputs": [
    {
     "name": "stdout",
     "output_type": "stream",
     "text": [
      "[1. 0. 1. ... 0. 0. 0.]\n"
     ]
    }
   ],
   "source": [
    "import numpy as np\n",
    "import csv\n",
    "\n",
    "with open(\"Datasets/year2017.csv\",encoding=\"utf-8\") as file_obj:\n",
    "    data = csv.DictReader(file_obj,skipinitialspace = True)\n",
    "    killed,wounded,country = [],[],[]\n",
    "    \n",
    "    for row in data:\n",
    "        killed.append(row['Killed'])\n",
    "        country.append(row['Country'])\n",
    "        wounded.append(row['Wounded'])\n",
    "    \n",
    "    np_killed = np.array(killed)\n",
    "    np_wounded = np.array(wounded)\n",
    "    \n",
    "    np_killed[np_killed == ''] = '0.0'\n",
    "    np_wounded[np_wounded == ''] = '0.0'\n",
    "    \n",
    "    np_killed = np.array(np_killed,dtype = float)\n",
    "    np_wounded = np.array(np_wounded,dtype = float)\n",
    "    \n",
    "    killed_wounded = np_killed + np_wounded\n",
    "    print(killed_wounded)"
   ]
  },
  {
   "cell_type": "markdown",
   "id": "28ccccb7-6854-4bc9-94b5-98e1ef45cd93",
   "metadata": {},
   "source": [
    "- Ques2. Calculate the killed + wounded only for country 'India'"
   ]
  },
  {
   "cell_type": "code",
   "execution_count": 84,
   "id": "bd7c40dd-dbcc-4849-a830-6b3ca51b404d",
   "metadata": {},
   "outputs": [
    {
     "name": "stdout",
     "output_type": "stream",
     "text": [
      "[1. 0. 1. ... 0. 0. 0.]\n",
      "48321.0\n",
      "935737.0\n"
     ]
    }
   ],
   "source": [
    "import numpy as np\n",
    "import csv\n",
    "\n",
    "with open(\"Datasets/year2017.csv\",encoding=\"utf-8\") as file_obj:\n",
    "    data = csv.DictReader(file_obj,skipinitialspace = True)\n",
    "    killed,wounded,country = [],[],[]\n",
    "\n",
    "    for row in data:\n",
    "        killed.append(row['Killed'])\n",
    "        country.append(row['Country'])\n",
    "        wounded.append(row['Wounded'])\n",
    "    \n",
    "    np_killed = np.array(killed)\n",
    "    np_wounded = np.array(wounded)\n",
    "    \n",
    "    np_killed[np_killed == ''] = '0.0'\n",
    "    np_wounded[np_wounded == ''] = '0.0'\n",
    "    \n",
    "    np_killed = np.array(np_killed,dtype = float)\n",
    "    np_wounded = np.array(np_wounded,dtype = float)\n",
    "    \n",
    "    killed_wounded = np_killed + np_wounded\n",
    "    print(killed_wounded)\n",
    "    \n",
    "    np_country = np.array(country)\n",
    "    bool_arr = np_country == 'India'\n",
    "    ans = kiled_wounded[bool_arr]\n",
    "    print(np.sum(ans))\n",
    "    print(np.sum(killed_wounded))"
   ]
  },
  {
   "cell_type": "markdown",
   "id": "e1ac8be5-feee-4dcc-be7c-6dd7e0f9dc57",
   "metadata": {},
   "source": [
    "- Ques3. Find the number of attack held between day 10 and day 20"
   ]
  },
  {
   "cell_type": "code",
   "execution_count": 85,
   "id": "75e3df07-056c-45e2-a663-46df06f598c3",
   "metadata": {},
   "outputs": [
    {
     "name": "stdout",
     "output_type": "stream",
     "text": [
      "66330\n"
     ]
    }
   ],
   "source": [
    "import numpy as np\n",
    "import csv\n",
    "\n",
    "with open(\"Datasets/year2017.csv\",encoding=\"utf-8\") as file_obj:\n",
    "    data = csv.DictReader(file_obj,skipinitialspace = True)\n",
    "    date = []\n",
    "    for row in data:\n",
    "        date.append(row['Day'])\n",
    "    \n",
    "    np_date = np.array(date,dtype='int')\n",
    "    numberOfAttacks = len(np_date[(np_date >= 10) & (np_date <= 20)])\n",
    "    print(numberOfAttacks)"
   ]
  },
  {
   "cell_type": "markdown",
   "id": "ff34003e-064c-4bdb-b2f7-0029c476217c",
   "metadata": {},
   "source": [
    "- Ques4. Find the number of attack held between 1 Jan 2010 and 31 Jan 2010"
   ]
  },
  {
   "cell_type": "code",
   "execution_count": 75,
   "id": "fb94761f-fffb-4c1f-83f7-e348c556bc25",
   "metadata": {},
   "outputs": [
    {
     "name": "stdout",
     "output_type": "stream",
     "text": [
      "271\n"
     ]
    }
   ],
   "source": [
    "import numpy as np\n",
    "import csv\n",
    "\n",
    "with open(\"Datasets/year2017.csv\",encoding=\"utf-8\") as file_obj:\n",
    "    data = csv.DictReader(file_obj,skipinitialspace = True)\n",
    "    \n",
    "    days = []\n",
    "    months = []\n",
    "    year = []\n",
    "    for row in data:\n",
    "        days.append(row['Day'])\n",
    "        months.append(row['Month'])\n",
    "        year.append(row['Year'])\n",
    "        \n",
    "    np_day = np.array(days, dtype=float)\n",
    "    np_month = np.array(months, dtype=float)\n",
    "    np_year = np.array(year, dtype=float)\n",
    "    \n",
    "    np_day = np_day[np_month==1]\n",
    "    np_year = np_year[np_month==1]\n",
    "    np_day = np_day[np_year==2010]\n",
    "    \n",
    "    print(len(np_day[np_day!=0]))"
   ]
  },
  {
   "cell_type": "markdown",
   "id": "6ff5dfe6-476d-4fe7-928a-d1fc472c0f6f",
   "metadata": {},
   "source": [
    "- Ques5. Print the count of casualities(as integer), city in which Kargil attack happened and name of attack group"
   ]
  },
  {
   "cell_type": "code",
   "execution_count": 94,
   "id": "c1f4a8db-992e-4f61-a5a5-390036c1cef7",
   "metadata": {},
   "outputs": [
    {
     "name": "stdout",
     "output_type": "stream",
     "text": [
      "22 Kargil District Separatists\n"
     ]
    }
   ],
   "source": [
    "import numpy as np\n",
    "import csv\n",
    "\n",
    "with open(\"Datasets/year2017.csv\",encoding=\"utf-8\") as file_obj:\n",
    "    data = csv.DictReader(file_obj,skipinitialspace = True)\n",
    "    \n",
    "    casualty = []\n",
    "    city = []\n",
    "    group = []\n",
    "\n",
    "    for row in data:\n",
    "        if row[\"State\"] == \"Jammu and Kashmir\" and row[\"Year\"] == \"1999\" :\n",
    "            if row[\"Month\"] == \"5\" or row[\"Month\"] == \"6\" or row[\"Month\"] == \"7\" :\n",
    "                casualty.append([row[\"Killed\"],row[\"Wounded\"]])\n",
    "                city.append(row[\"City\"])\n",
    "                group.append(row['Group'])\n",
    "\n",
    "    np_casualty = np.array(casualty)\n",
    "    np_city = np.array(city)\n",
    "    np_group = np.array(group)\n",
    "\n",
    "    np_casualty[np_casualty == ''] = \"0.0\"\n",
    "    np_casualty = np.array(np_casualty, dtype = float)\n",
    "\n",
    "    # axis - calculates the total sum, sums along rows (axis = 0), sums along columns (axis = 1)\n",
    "    np_casualty = np.sum(np_casualty,axis = 1)\n",
    "\n",
    "    # Find the index on which maximum casulty occurs\n",
    "    index = np_casualty.argmax()\n",
    "    print(int(np_casualty[index]),np_city[index],np_group[index])"
   ]
  },
  {
   "cell_type": "markdown",
   "id": "7c2c2cda-0c1c-46c0-90ed-fd66c0a8b4cb",
   "metadata": {},
   "source": [
    "- Ques6. Find the casualty(killed + wounded) in the Red Corridor States(Jharkhand, Odisha, Andhra Pradesh and Chhattisgarh)"
   ]
  },
  {
   "cell_type": "code",
   "execution_count": 101,
   "id": "3fd64da6-8471-492e-aa81-747148fe8b89",
   "metadata": {},
   "outputs": [
    {
     "name": "stdout",
     "output_type": "stream",
     "text": [
      "5628\n"
     ]
    }
   ],
   "source": [
    "import numpy as np\n",
    "import csv\n",
    "\n",
    "with open(\"Datasets/year2017.csv\",encoding=\"utf-8\") as file_obj:\n",
    "    data = csv.DictReader(file_obj,skipinitialspace = True)\n",
    "\n",
    "    casualty = []\n",
    "\n",
    "    for row in data:\n",
    "        if row['State'] in ['Chhattisgarh','Odisha','Jharkhand','Andhra Pradesh']:\n",
    "            casualty.append([row['Killed'],row['Wounded']])\n",
    "\n",
    "    np_casualty = np.array(casualty)\n",
    "    np_casualty[np_casualty == ''] = \"0.0\"\n",
    "    np_casualty = np.array(np_casualty, dtype = float)\n",
    "    np_casualty = np.sum(np_casualty,axis = 1)\n",
    "    \n",
    "    print(int(sum(np_casualty)))"
   ]
  },
  {
   "cell_type": "markdown",
   "id": "2e85d8da-aca7-4f39-8e5a-1880a37d1626",
   "metadata": {},
   "source": [
    "- Ques6. Print top 5 Indian cities with most number of casulities along with the casulities"
   ]
  },
  {
   "cell_type": "code",
   "execution_count": 102,
   "id": "14221bed-5684-409b-8308-940be1170e5f",
   "metadata": {},
   "outputs": [
    {
     "name": "stdout",
     "output_type": "stream",
     "text": [
      "Mumbai : 1005.0\n",
      "Dispur : 272.0\n",
      "Jhargam : 255.0\n",
      "Chennai : 232.0\n",
      "New Delhi : 210.0\n"
     ]
    }
   ],
   "source": [
    "import numpy as np\n",
    "import csv\n",
    "\n",
    "with open(\"Datasets/year2017.csv\",encoding=\"utf-8\") as file_obj:\n",
    "    data = csv.DictReader(file_obj,skipinitialspace = True)\n",
    "\n",
    "    casualty = []\n",
    "    city = []\n",
    "\n",
    "    for row in data:\n",
    "        if row['Country'] == 'India':\n",
    "            casualty.append([row['Killed'],row['Wounded']])\n",
    "            city.append(row['City'])\n",
    "    \n",
    "    np_casualty = np.array(casualty)\n",
    "    np_city = np.array(city)\n",
    "    \n",
    "    np_casualty[np_casualty == ''] = \"0.0\"\n",
    "    np_casualty = np.array(np_casualty, dtype = float)\n",
    "    np_casualty = np.sum(np_casualty,axis = 1)\n",
    "\n",
    "    ascending_indices = np_casualty.argsort()\n",
    "    descending_indices = ascending_indices[::-1]\n",
    "    top_5_casualty_indices = descending_indices[:5]\n",
    "\n",
    "    for index in top_5_casualty_indices:\n",
    "        print(f\"{np_city[index]} : {np_casualty[index]}\")\n",
    "        "
   ]
  },
  {
   "cell_type": "markdown",
   "id": "cdf9dd53-9fb4-4ac0-9565-1109b33ba740",
   "metadata": {},
   "source": [
    "- Ques7. Find the most frequent day of attack"
   ]
  },
  {
   "cell_type": "code",
   "execution_count": 106,
   "id": "37f9e269-be82-4a05-a553-74bc2c73cf8a",
   "metadata": {},
   "outputs": [
    {
     "name": "stdout",
     "output_type": "stream",
     "text": [
      "15 6500\n"
     ]
    }
   ],
   "source": [
    "import numpy as np\n",
    "import csv\n",
    "\n",
    "with open(\"Datasets/year2017.csv\",encoding=\"utf-8\") as file_obj:\n",
    "    data = csv.DictReader(file_obj,skipinitialspace = True)\n",
    "\n",
    "    day = []\n",
    "\n",
    "    for row in data:\n",
    "        day.append(row['Day'])\n",
    "\n",
    "    np_day = np.array(day)\n",
    "    day, count = np.unique(np_day,return_counts = True)\n",
    "    index = np.argmax(count)\n",
    "    print(day[index],count[index])"
   ]
  }
 ],
 "metadata": {
  "kernelspec": {
   "display_name": "Python 3 (ipykernel)",
   "language": "python",
   "name": "python3"
  },
  "language_info": {
   "codemirror_mode": {
    "name": "ipython",
    "version": 3
   },
   "file_extension": ".py",
   "mimetype": "text/x-python",
   "name": "python",
   "nbconvert_exporter": "python",
   "pygments_lexer": "ipython3",
   "version": "3.13.1"
  }
 },
 "nbformat": 4,
 "nbformat_minor": 5
}
